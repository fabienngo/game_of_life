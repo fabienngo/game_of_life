{
 "cells": [
  {
   "cell_type": "code",
   "execution_count": 6,
   "metadata": {
    "collapsed": false
   },
   "outputs": [
    {
     "name": "stdout",
     "output_type": "stream",
     "text": [
      "{(0, -1), (1, 0), (0, -2), (1, -1), (-1, 0)}\n",
      "{(0, -2), (1, 0), (1, -2), (1, -1), (-1, -1)}\n"
     ]
    }
   ],
   "source": [
    "from typing import Set, Tuple\n",
    "from itertools import product\n",
    "from copy import copy\n",
    "\n",
    "\n",
    "def neighbors(i: int, j: int)-> Set[Tuple]:\n",
    "    \"\"\"\n",
    "    compute closest neighbors to a cell with integer coordinates x, y\n",
    "    :param x:\n",
    "    :param y:\n",
    "    :return:\n",
    "    \"\"\"\n",
    "    return {(i + ii, j + jj) for (ii, jj) in product({-1, 0, 1}, {-1, 0, 1}) if (ii, jj) != (0, 0)}\n",
    "\n",
    "def envelope(state: Set[Tuple]) -> Set[Tuple]:\n",
    "    \"\"\"\n",
    "    compute the closest neighbors of a set of cells with integer coordinates. We call it the envelope of the set\n",
    "    :param state:\n",
    "    :return:\n",
    "    \"\"\"\n",
    "    env = set(state)\n",
    "    for i, j in state:\n",
    "        env |= neighbors(i, j)\n",
    "    return env\n",
    "\n",
    "def live(state):\n",
    "    new_state = set()\n",
    "    env = envelope(state)\n",
    "    for i, j in env:\n",
    "        n_living_neighbors = len(neighbors(i, j) & state)\n",
    "        if (i, j) not in state:\n",
    "            if n_living_neighbors == 3:\n",
    "                new_state.add((i, j))\n",
    "        elif n_living_neighbors in (2, 3):\n",
    "            new_state.add((i, j))\n",
    "    return new_state\n",
    "\n",
    "seed = {(0, 1), (1, 0), (0, -1), (-1, -1), (1, -1)}\n",
    "print(live(seed))\n",
    "print(live(live(seed)))"
   ]
  },
  {
   "cell_type": "code",
   "execution_count": 7,
   "metadata": {
    "collapsed": false
   },
   "outputs": [
    {
     "data": {
      "image/png": "[encoded data removed]",
      "text/plain": [
       "<matplotlib.figure.Figure at 0x105702cc0>"
      ]
     },
     "metadata": {},
     "output_type": "display_data"
    }
   ],
   "source": [
    "%matplotlib inline\n",
    "import matplotlib\n",
    "matplotlib.rcParams['figure.figsize'] = (12.0, 8.0)\n",
    "\n",
    "def get_state_image(state, boundaries=(-10, 10, -10, 10)):\n",
    "    height = boundaries[1] - boundaries[0]\n",
    "    width = boundaries[3] - boundaries[2]\n",
    "    grid = np.zeros((height, width), dtype=int)\n",
    "    for (i, j) in state:\n",
    "        if i < boundaries[0] or i > boundaries[1]:\n",
    "            continue\n",
    "        if j < boundaries[2] or j > boundaries[3]:\n",
    "            continue\n",
    "        grid[i - boundaries[0], j - boundaries[2]] = 1\n",
    "    return grid\n",
    "\n",
    "plt.imshow(\n",
    "    get_state_image(seed),\n",
    "    cmap='Greys', interpolation='nearest'\n",
    ");"
   ]
  },
  {
   "cell_type": "code",
   "execution_count": 8,
   "metadata": {
    "collapsed": false
   },
   "outputs": [
    {
     "data": {
      "image/png": "[encoded data removed]",
      "text/plain": [
       "<matplotlib.figure.Figure at 0x10a36de10>"
      ]
     },
     "metadata": {},
     "output_type": "display_data"
    }
   ],
   "source": [
    "plt.imshow(\n",
    "    get_state_image(live(seed)),\n",
    "    cmap='Greys', interpolation='nearest'\n",
    ");"
   ]
  }
 ],
 "metadata": {
  "kernelspec": {
   "display_name": "Python 3",
   "language": "python",
   "name": "python3"
  },
  "language_info": {
   "codemirror_mode": {
    "name": "ipython",
    "version": 3
   },
   "file_extension": ".py",
   "mimetype": "text/x-python",
   "name": "python",
   "nbconvert_exporter": "python",
   "pygments_lexer": "ipython3",
   "version": "3.5.1"
  }
 },
 "nbformat": 4,
 "nbformat_minor": 0
}
